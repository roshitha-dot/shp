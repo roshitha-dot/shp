{
 "cells": [
  {
   "cell_type": "code",
   "execution_count": 22,
   "id": "0231ba51-5ad1-47fa-8748-67592dc3a58c",
   "metadata": {},
   "outputs": [],
   "source": [
    "class Polygon( object ):\n",
    "    def __init__(self, shape):\n",
    "        self.shape = shape\n",
    "    def display(self):\n",
    "        print(self.shape)"
   ]
  },
  {
   "cell_type": "code",
   "execution_count": 23,
   "id": "3fd877dc-619b-4951-ac3f-e67d1385001c",
   "metadata": {},
   "outputs": [],
   "source": [
    "class Circle( Polygon ):\n",
    "    def __init__(self, shape, radius):\n",
    "        Polygon.__init__(self, shape)\n",
    "        self.radius = radius\n",
    "    def display(self):\n",
    "        Polygon.display(self)\n",
    "        a = 3.14*(self.radius**2)\n",
    "        print(a)"
   ]
  },
  {
   "cell_type": "code",
   "execution_count": 24,
   "id": "780b5423-711c-4aa0-81a1-17649e1a2319",
   "metadata": {},
   "outputs": [
    {
     "name": "stdout",
     "output_type": "stream",
     "text": [
      "Circle\n",
      "12.56\n"
     ]
    }
   ],
   "source": [
    "r = Circle(\"Circle\", 2)\n",
    "r.display()"
   ]
  },
  {
   "cell_type": "code",
   "execution_count": 25,
   "id": "253ad11e-6bfd-468d-afe1-4c5ecae0fb06",
   "metadata": {},
   "outputs": [],
   "source": [
    "class Square( Polygon ):\n",
    "    def __init__(self, shape, side):\n",
    "        Polygon.__init__(self, shape)\n",
    "        self.side = side\n",
    "    def display(self):\n",
    "        Polygon.display(self)\n",
    "        a = self.side**2\n",
    "        print(a)"
   ]
  },
  {
   "cell_type": "code",
   "execution_count": 26,
   "id": "c10983ff-b242-4b09-b1f1-e7fc47b724bb",
   "metadata": {},
   "outputs": [
    {
     "name": "stdout",
     "output_type": "stream",
     "text": [
      "Square\n",
      "4\n"
     ]
    }
   ],
   "source": [
    "s = Square(\"Square\", 2)\n",
    "s.display()"
   ]
  },
  {
   "cell_type": "code",
   "execution_count": 29,
   "id": "41a0790a-6cde-42ec-9e1f-4cea0ebb37d6",
   "metadata": {},
   "outputs": [],
   "source": [
    "class Rectangle( Polygon ):\n",
    "    def __init__(self, shape, len, brd):\n",
    "        Polygon.__init__(self, shape)\n",
    "        self.len = len\n",
    "        self.brd = brd\n",
    "    def display(self):\n",
    "        Polygon.display(self)\n",
    "        a = self.len*self.brd\n",
    "        print(a)"
   ]
  },
  {
   "cell_type": "code",
   "execution_count": 30,
   "id": "faa45350-b238-4bdc-afe4-ae11f4dbdd3b",
   "metadata": {},
   "outputs": [
    {
     "name": "stdout",
     "output_type": "stream",
     "text": [
      "Rectangle\n",
      "4\n"
     ]
    }
   ],
   "source": [
    "rec = Rectangle(\"Rectangle\", 2, 2)\n",
    "rec.display()"
   ]
  },
  {
   "cell_type": "code",
   "execution_count": 32,
   "id": "e62699b0-15db-4b6d-afd4-b7de6558e4fb",
   "metadata": {},
   "outputs": [],
   "source": [
    "class Triangle( Polygon ):\n",
    "    def __init__(self, shape, b, h):\n",
    "        Polygon.__init__(self, shape)\n",
    "        self.h = h\n",
    "        self.b = b\n",
    "    def display(self):\n",
    "        Polygon.display(self)\n",
    "        a = (1/2)*(self.h*self.b)\n",
    "        print(a)"
   ]
  },
  {
   "cell_type": "code",
   "execution_count": 33,
   "id": "1056bb87-dc61-4d3e-ba3f-d8693f4075d4",
   "metadata": {},
   "outputs": [
    {
     "name": "stdout",
     "output_type": "stream",
     "text": [
      "Triangle\n",
      "2.0\n"
     ]
    }
   ],
   "source": [
    "t = Triangle(\"Triangle\", 2, 2)\n",
    "t.display()"
   ]
  },
  {
   "cell_type": "code",
   "execution_count": null,
   "id": "aae46e1d-3f1f-46aa-ba67-51b52d4ba1bf",
   "metadata": {},
   "outputs": [],
   "source": []
  }
 ],
 "metadata": {
  "kernelspec": {
   "display_name": "Python 3 (ipykernel)",
   "language": "python",
   "name": "python3"
  },
  "language_info": {
   "codemirror_mode": {
    "name": "ipython",
    "version": 3
   },
   "file_extension": ".py",
   "mimetype": "text/x-python",
   "name": "python",
   "nbconvert_exporter": "python",
   "pygments_lexer": "ipython3",
   "version": "3.12.4"
  }
 },
 "nbformat": 4,
 "nbformat_minor": 5
}
